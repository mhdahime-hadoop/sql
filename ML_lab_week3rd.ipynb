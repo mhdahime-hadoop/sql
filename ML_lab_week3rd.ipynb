{
  "nbformat": 4,
  "nbformat_minor": 0,
  "metadata": {
    "colab": {
      "provenance": [],
      "authorship_tag": "ABX9TyOSLVtD0nLIzmcg1CzwQFYH",
      "include_colab_link": true
    },
    "kernelspec": {
      "name": "python3",
      "display_name": "Python 3"
    },
    "language_info": {
      "name": "python"
    }
  },
  "cells": [
    {
      "cell_type": "markdown",
      "metadata": {
        "id": "view-in-github",
        "colab_type": "text"
      },
      "source": [
        "<a href=\"https://colab.research.google.com/github/mhdahime-hadoop/sql/blob/main/ML_lab_week3rd.ipynb\" target=\"_parent\"><img src=\"https://colab.research.google.com/assets/colab-badge.svg\" alt=\"Open In Colab\"/></a>"
      ]
    },
    {
      "cell_type": "code",
      "execution_count": 22,
      "metadata": {
        "colab": {
          "base_uri": "https://localhost:8080/"
        },
        "id": "y3qjhEV32aLq",
        "outputId": "a93ca833-4dec-4d11-b197-fcfd76a661cb"
      },
      "outputs": [
        {
          "output_type": "stream",
          "name": "stdout",
          "text": [
            "Requirement already satisfied: pyspark in /usr/local/lib/python3.11/dist-packages (3.5.1)\n",
            "Requirement already satisfied: py4j==0.10.9.7 in /usr/local/lib/python3.11/dist-packages (from pyspark) (0.10.9.7)\n"
          ]
        }
      ],
      "source": [
        "# install pyspark\n",
        "!pip3 install pyspark\n"
      ]
    },
    {
      "cell_type": "code",
      "source": [
        "#initialize SparkSession and installed Required Libraries\n",
        "from pyspark.sql import SparkSession\n",
        "from pyspark.ml.feature import VectorAssembler, StandardScaler\n",
        "from pyspark.ml.regression import LinearRegression\n",
        "from pyspark.ml.evaluation import RegressionEvaluator\n",
        "\n",
        "# Initialize SparkSession\n",
        "spark = SparkSession.builder \\\n",
        "                    .appName(\"LinearRegression_spark\") \\\n",
        "                    .master(\"local[*]\") \\\n",
        "                    .config(\"spark.executor.memory\", \"4g\") \\\n",
        "                    .config(\"spark.driver.memory\", \"2g\") \\\n",
        "                    .config(\"spark.executor.cores\", \"2\") \\\n",
        "                    .config(\"spark.sql.inMemoryColumnarStorage.compressed\", \"true\") \\\n",
        "                    .getOrCreate()\n",
        "\n",
        "\n",
        "spark"
      ],
      "metadata": {
        "colab": {
          "base_uri": "https://localhost:8080/",
          "height": 219
        },
        "id": "W6gKRggF3kMs",
        "outputId": "e3558af0-4889-459f-bc68-c37a52676100"
      },
      "execution_count": 23,
      "outputs": [
        {
          "output_type": "execute_result",
          "data": {
            "text/plain": [
              "<pyspark.sql.session.SparkSession at 0x7c4637192a50>"
            ],
            "text/html": [
              "\n",
              "            <div>\n",
              "                <p><b>SparkSession - in-memory</b></p>\n",
              "                \n",
              "        <div>\n",
              "            <p><b>SparkContext</b></p>\n",
              "\n",
              "            <p><a href=\"http://39bb69237f3e:4040\">Spark UI</a></p>\n",
              "\n",
              "            <dl>\n",
              "              <dt>Version</dt>\n",
              "                <dd><code>v3.5.1</code></dd>\n",
              "              <dt>Master</dt>\n",
              "                <dd><code>local[*]</code></dd>\n",
              "              <dt>AppName</dt>\n",
              "                <dd><code>LinearRegression_spark</code></dd>\n",
              "            </dl>\n",
              "        </div>\n",
              "        \n",
              "            </div>\n",
              "        "
            ]
          },
          "metadata": {},
          "execution_count": 23
        }
      ]
    },
    {
      "cell_type": "code",
      "source": [
        "print(f\"Spark UI available at: {spark.sparkContext.uiWebUrl}\")"
      ],
      "metadata": {
        "colab": {
          "base_uri": "https://localhost:8080/"
        },
        "id": "AaZ-o41H3m2A",
        "outputId": "5a17bd48-5a2f-4362-ff28-34ebcb22989f"
      },
      "execution_count": 24,
      "outputs": [
        {
          "output_type": "stream",
          "name": "stdout",
          "text": [
            "Spark UI available at: http://39bb69237f3e:4040\n"
          ]
        }
      ]
    },
    {
      "cell_type": "code",
      "source": [
        "spark.sparkContext.setLogLevel(\"INFO\")"
      ],
      "metadata": {
        "id": "e1CP3tSE3rpD"
      },
      "execution_count": 25,
      "outputs": []
    },
    {
      "cell_type": "code",
      "source": [
        "import psutil\n",
        "print(f\"CPU Usage: {psutil.cpu_percent()}%\")\n",
        "print(f\"Memory Usage: {psutil.virtual_memory().percent}%\")"
      ],
      "metadata": {
        "colab": {
          "base_uri": "https://localhost:8080/"
        },
        "id": "yYlk9cQ83yo5",
        "outputId": "a2df4c19-06ff-40f5-a7f7-f17e8671b87a"
      },
      "execution_count": 26,
      "outputs": [
        {
          "output_type": "stream",
          "name": "stdout",
          "text": [
            "CPU Usage: 17.9%\n",
            "Memory Usage: 16.3%\n"
          ]
        }
      ]
    },
    {
      "cell_type": "code",
      "source": [
        "# Load the data from a CSV file\n",
        "df = spark.read.csv(\"/content/Diabetes.csv\", header=True, inferSchema=True)\n",
        "\n",
        "# get familiar with data\n",
        "df.show()\n",
        "\n",
        "# more info\n",
        "print(\"Total Records\",df.count())\n",
        "print(\"Total Partitions \",df.rdd.getNumPartitions())"
      ],
      "metadata": {
        "colab": {
          "base_uri": "https://localhost:8080/"
        },
        "id": "5Bnf-_H74DpN",
        "outputId": "8b2446a0-24b1-4a72-f858-e4c4ed6822e0"
      },
      "execution_count": 41,
      "outputs": [
        {
          "output_type": "stream",
          "name": "stdout",
          "text": [
            "+---+---+------+-----+------+------+-----+-----+----+-----+------+-----------+\n",
            "| id|age|   sex|  bmi|    bp|    tc|  ldl|  hdl| tch|  ltg|   glu|progression|\n",
            "+---+---+------+-----+------+------+-----+-----+----+-----+------+-----------+\n",
            "|  0| 22|  Male|20.33|106.25|140.89|-0.45|62.83|0.77|-0.54|130.98|      29.83|\n",
            "|  1| 41|Female|25.99|132.23|129.64|-1.11|37.26|0.81| 1.64|151.19|      46.66|\n",
            "|  2| 51|Female|32.76| 127.0|220.36|-1.69|49.56|0.41|-0.88|176.22|      59.97|\n",
            "|  3| 26|  Male|35.87| 138.4|194.19|-0.04|55.57|0.45|-1.38|125.32|      42.44|\n",
            "|  4| 42|Female| 21.5|122.33|275.79| 1.19|63.64|0.54|-0.69|184.72|      49.36|\n",
            "|  5| 47|  Male|31.62|137.18|232.35|-1.65|36.68|0.26| 1.63| 99.83|      54.15|\n",
            "|  6| 22|  Male|37.06|106.47|244.34|-0.07|34.22|0.48|-1.72| 65.41|      39.55|\n",
            "|  7| 23|  Male|26.75|129.39|177.69|-0.37|42.03|0.68| 0.82|180.71|      33.12|\n",
            "|  8| 44|Female|28.38|125.23|276.99| 0.69|55.18| 1.1|-0.52|134.71|      53.84|\n",
            "|  9| 36|  Male|36.83| 121.9|174.81|  1.1|53.55|0.25|-0.62| 88.25|      51.81|\n",
            "| 10| 56|Female| 42.8|129.62|212.24| 1.46|49.69|0.58| 0.17| 61.64|      71.56|\n",
            "| 11| 41|  Male|34.41| 120.5|232.95| 1.27|57.86|0.97| 0.15| 63.33|      54.31|\n",
            "| 12| 56|  Male|24.41|126.83|183.39| 0.19|52.15|0.64| 0.56| 50.62|      60.75|\n",
            "| 13| 39|Female|18.07|114.39|206.74| -2.3|42.51|0.37|-0.15| 83.49|      41.11|\n",
            "| 14| 48|Female|35.12|124.86|153.23|-0.18|39.01|1.01|-1.08| 79.52|      60.19|\n",
            "| 15| 52|  Male|32.41|119.55| 118.6| 0.29|42.15|0.61|-0.06| 73.18|      61.88|\n",
            "| 16| 45|Female|37.21| 122.2|115.44| 0.33|46.21|0.43| 0.38| 45.89|      58.06|\n",
            "| 17| 42|Female|24.92|132.07|215.44| 0.53|61.76| 0.7|-0.04|  86.4|      49.97|\n",
            "| 18| 45|  Male|27.23|114.42| 173.3|-0.05|35.94|0.69| 0.82|108.99|      52.23|\n",
            "| 19| 45|Female|26.14|110.95|234.69| -0.5|47.08|0.82| 1.51| 96.85|      50.64|\n",
            "+---+---+------+-----+------+------+-----+-----+----+-----+------+-----------+\n",
            "only showing top 20 rows\n",
            "\n",
            "Total Records 3045570\n",
            "Total Partitions  2\n"
          ]
        }
      ]
    },
    {
      "cell_type": "code",
      "source": [],
      "metadata": {
        "id": "lgA-pMUz-pQh"
      },
      "execution_count": null,
      "outputs": []
    },
    {
      "cell_type": "code",
      "source": [
        "# check missing or null values for each column\n",
        "from pyspark.sql.functions import col,isnan, when, count\n",
        "df.select([count(when(isnan(c) | col(c).isNull(), c))\n",
        ".alias(c) for c in df.columns]).show()"
      ],
      "metadata": {
        "colab": {
          "base_uri": "https://localhost:8080/"
        },
        "id": "hecfHpf44gRh",
        "outputId": "fd489f9e-482b-4a48-cba7-feb08421f635"
      },
      "execution_count": 42,
      "outputs": [
        {
          "output_type": "stream",
          "name": "stdout",
          "text": [
            "+---+---+---+---+---+---+---+---+---+---+---+-----------+\n",
            "| id|age|sex|bmi| bp| tc|ldl|hdl|tch|ltg|glu|progression|\n",
            "+---+---+---+---+---+---+---+---+---+---+---+-----------+\n",
            "|  0|  0|  0|  0|  0|  0|  0|  0|  0|  0|  0|          0|\n",
            "+---+---+---+---+---+---+---+---+---+---+---+-----------+\n",
            "\n"
          ]
        }
      ]
    },
    {
      "cell_type": "code",
      "source": [
        "# convert categorical column into numbers\n",
        "from pyspark.ml.feature import StringIndexer\n",
        "indexer = StringIndexer(inputCol = 'sex', outputCol = 'gender')\n",
        "#df = indexer.fit(df).transform(df)\n",
        "df.show(30)"
      ],
      "metadata": {
        "colab": {
          "base_uri": "https://localhost:8080/"
        },
        "id": "abvxbt4D5OmB",
        "outputId": "56ad02e5-5b24-499a-faa2-df027bb6ff49"
      },
      "execution_count": 43,
      "outputs": [
        {
          "output_type": "stream",
          "name": "stdout",
          "text": [
            "+---+---+------+-----+------+------+-----+-----+----+-----+------+-----------+\n",
            "| id|age|   sex|  bmi|    bp|    tc|  ldl|  hdl| tch|  ltg|   glu|progression|\n",
            "+---+---+------+-----+------+------+-----+-----+----+-----+------+-----------+\n",
            "|  0| 22|  Male|20.33|106.25|140.89|-0.45|62.83|0.77|-0.54|130.98|      29.83|\n",
            "|  1| 41|Female|25.99|132.23|129.64|-1.11|37.26|0.81| 1.64|151.19|      46.66|\n",
            "|  2| 51|Female|32.76| 127.0|220.36|-1.69|49.56|0.41|-0.88|176.22|      59.97|\n",
            "|  3| 26|  Male|35.87| 138.4|194.19|-0.04|55.57|0.45|-1.38|125.32|      42.44|\n",
            "|  4| 42|Female| 21.5|122.33|275.79| 1.19|63.64|0.54|-0.69|184.72|      49.36|\n",
            "|  5| 47|  Male|31.62|137.18|232.35|-1.65|36.68|0.26| 1.63| 99.83|      54.15|\n",
            "|  6| 22|  Male|37.06|106.47|244.34|-0.07|34.22|0.48|-1.72| 65.41|      39.55|\n",
            "|  7| 23|  Male|26.75|129.39|177.69|-0.37|42.03|0.68| 0.82|180.71|      33.12|\n",
            "|  8| 44|Female|28.38|125.23|276.99| 0.69|55.18| 1.1|-0.52|134.71|      53.84|\n",
            "|  9| 36|  Male|36.83| 121.9|174.81|  1.1|53.55|0.25|-0.62| 88.25|      51.81|\n",
            "| 10| 56|Female| 42.8|129.62|212.24| 1.46|49.69|0.58| 0.17| 61.64|      71.56|\n",
            "| 11| 41|  Male|34.41| 120.5|232.95| 1.27|57.86|0.97| 0.15| 63.33|      54.31|\n",
            "| 12| 56|  Male|24.41|126.83|183.39| 0.19|52.15|0.64| 0.56| 50.62|      60.75|\n",
            "| 13| 39|Female|18.07|114.39|206.74| -2.3|42.51|0.37|-0.15| 83.49|      41.11|\n",
            "| 14| 48|Female|35.12|124.86|153.23|-0.18|39.01|1.01|-1.08| 79.52|      60.19|\n",
            "| 15| 52|  Male|32.41|119.55| 118.6| 0.29|42.15|0.61|-0.06| 73.18|      61.88|\n",
            "| 16| 45|Female|37.21| 122.2|115.44| 0.33|46.21|0.43| 0.38| 45.89|      58.06|\n",
            "| 17| 42|Female|24.92|132.07|215.44| 0.53|61.76| 0.7|-0.04|  86.4|      49.97|\n",
            "| 18| 45|  Male|27.23|114.42| 173.3|-0.05|35.94|0.69| 0.82|108.99|      52.23|\n",
            "| 19| 45|Female|26.14|110.95|234.69| -0.5|47.08|0.82| 1.51| 96.85|      50.64|\n",
            "| 20| 48|  Male|40.61|139.86|166.48| 0.23|53.33|0.48|-0.72| 109.0|      63.26|\n",
            "| 21| 29|  Male|26.87|134.17| 220.5|-0.48| 62.6|0.96|-1.25| 60.79|      39.85|\n",
            "| 22| 40|  Male|37.85|117.71|176.29|-1.07|50.44|0.84| 0.33| 12.74|      52.68|\n",
            "| 23| 41|  Male|22.99|129.23|218.57| -1.0|43.62|0.32|-0.59|164.27|      47.08|\n",
            "| 24| 32|  Male|29.86|128.16|198.45| -0.1|52.86|0.36|-0.79|134.98|      43.91|\n",
            "| 25| 43|  Male|35.91|137.62|195.97|-0.46|54.81|0.62|-0.36|130.32|      55.65|\n",
            "| 26| 26|Female|28.29|124.65|105.95| 0.01|39.91|0.35| -0.1| 93.85|      37.55|\n",
            "| 27| 48|Female|26.65|135.08|131.99|-0.21|51.42|0.81|-0.49| 126.6|      55.58|\n",
            "| 28| 42|  Male|31.22|131.62|290.94|-0.39|56.22|0.59| 1.03|  2.18|      51.35|\n",
            "| 29| 14|Female|28.15|132.11|252.84| 2.08|58.86|0.78|-0.29| 56.95|      29.53|\n",
            "+---+---+------+-----+------+------+-----+-----+----+-----+------+-----------+\n",
            "only showing top 30 rows\n",
            "\n"
          ]
        }
      ]
    },
    {
      "cell_type": "code",
      "source": [
        "from pyspark.ml.feature import VectorAssembler\n",
        "assembler = VectorAssembler(inputCols = [\"age\", \"gender\", \"bmi\",\"bp\",\"tc\",\"ldl\",\"hdl\",\"tch\",\"ltg\",\"glu\"],\n",
        "                           outputCol = \"Features\")"
      ],
      "metadata": {
        "id": "1du9qjmT5wuv"
      },
      "execution_count": 44,
      "outputs": []
    },
    {
      "cell_type": "markdown",
      "source": [],
      "metadata": {
        "id": "jpjxbTKp_QOS"
      }
    },
    {
      "cell_type": "code",
      "source": [
        "#StandardScaler\n",
        "scaler = StandardScaler(inputCol = \"Features\",\n",
        "                        outputCol = \"scaled_Features\")"
      ],
      "metadata": {
        "id": "X_FxQvVR5zOy"
      },
      "execution_count": 45,
      "outputs": []
    },
    {
      "cell_type": "code",
      "source": [
        "#create linear regression model.\n",
        "regressor = LinearRegression(labelCol = 'progression',\n",
        "                             featuresCol = 'scaled_Features'\n",
        "                             )"
      ],
      "metadata": {
        "id": "J9bG-JlL514c"
      },
      "execution_count": 46,
      "outputs": []
    },
    {
      "cell_type": "code",
      "source": [
        "from pyspark.ml import Pipeline\n",
        "pipeline  = Pipeline(stages = [indexer,assembler,scaler,regressor])\n",
        "#--Saving the Pipeline\n",
        "pipeline.write().overwrite().save(\"pipeline_LRsaved_model\")"
      ],
      "metadata": {
        "id": "ohWpzzea56aw"
      },
      "execution_count": 47,
      "outputs": []
    },
    {
      "cell_type": "code",
      "source": [
        "#Loading the Pipeline\n",
        "\n",
        "pipelineModel = Pipeline.load('./pipeline_LRsaved_model')"
      ],
      "metadata": {
        "id": "TXhvbBYc5-eX"
      },
      "execution_count": 48,
      "outputs": []
    },
    {
      "cell_type": "code",
      "source": [
        "data_train , data_test = df.randomSplit([0.7,0.3], seed = 123)"
      ],
      "metadata": {
        "id": "BFRY11AC6E1W"
      },
      "execution_count": 49,
      "outputs": []
    },
    {
      "cell_type": "code",
      "source": [
        "Model = pipeline.fit(data_train)"
      ],
      "metadata": {
        "id": "uGLTcxwq6Jvt"
      },
      "execution_count": 50,
      "outputs": []
    },
    {
      "cell_type": "code",
      "source": [
        "print(\"total LR cofficents\",len(Model.stages[3].coefficients) )\n",
        "print(\"Cofficientents\",Model.stages[3].coefficients)\n",
        "print(\"Intecept\",Model.stages[3].intercept)"
      ],
      "metadata": {
        "colab": {
          "base_uri": "https://localhost:8080/"
        },
        "id": "o-pz3X30-qHq",
        "outputId": "f55673c3-2f4f-4f25-a9da-59c756ce8929"
      },
      "execution_count": 52,
      "outputs": [
        {
          "output_type": "stream",
          "name": "stdout",
          "text": [
            "total LR cofficents 10\n",
            "Cofficientents [8.502430305819548,5.10009914113886e-06,3.498183838107447,0.09996892814257681,-1.7903153082759166e-06,1.0011710635500504,-6.082063659106147e-07,-0.019992637345280444,-0.800332798473984,-3.432551272439523e-07]\n",
            "Intecept 6.616544268198269e-05\n"
          ]
        }
      ]
    },
    {
      "cell_type": "code",
      "source": [
        "#n the prediction phase, we test our model on some unseen data.\n",
        "pred = Model.transform(data_test)\n",
        "pred.select('prediction', 'progression').show(10, truncate = False)"
      ],
      "metadata": {
        "colab": {
          "base_uri": "https://localhost:8080/"
        },
        "id": "TAoPiq38_F-x",
        "outputId": "41ea782a-433d-4bfc-978e-05954998ebe4"
      },
      "execution_count": 53,
      "outputs": [
        {
          "output_type": "stream",
          "name": "stdout",
          "text": [
            "+------------------+-----------+\n",
            "|prediction        |progression|\n",
            "+------------------+-----------+\n",
            "|59.97303581221206 |59.97      |\n",
            "|39.55272591129682 |39.55      |\n",
            "|51.80502594481944 |51.81      |\n",
            "|60.75132257419162 |60.75      |\n",
            "|41.1119433951038  |41.11      |\n",
            "|52.23422238261993 |52.23      |\n",
            "|47.077329428433295|47.08      |\n",
            "|29.530124879915338|29.53      |\n",
            "|58.812434571858155|58.81      |\n",
            "|55.61782088599335 |55.62      |\n",
            "+------------------+-----------+\n",
            "only showing top 10 rows\n",
            "\n"
          ]
        }
      ]
    },
    {
      "cell_type": "code",
      "source": [
        "Lasoregressor = LinearRegression(labelCol = 'progression',\n",
        "                             featuresCol = 'scaled_Features',\n",
        "                             elasticNetParam=1,\n",
        "                             regParam=0.1\n",
        "                             )\n",
        "Lasaopipeline  = Pipeline(stages = [indexer,assembler,scaler,Lasoregressor])\n",
        "LassoModel = Lasaopipeline.fit(data_train)"
      ],
      "metadata": {
        "id": "sraXyEYB_c_H"
      },
      "execution_count": 55,
      "outputs": []
    },
    {
      "cell_type": "code",
      "source": [
        "#n the prediction phase, we test our model on some unseen data.\n",
        "lassopred = LassoModel.transform(data_test)\n",
        "lassopred.select('prediction', 'progression').show(10, truncate = False)"
      ],
      "metadata": {
        "colab": {
          "base_uri": "https://localhost:8080/"
        },
        "id": "TFm0af5K_4Ba",
        "outputId": "a17bc2d9-ef4a-47a0-a116-1f79bc17d828"
      },
      "execution_count": 56,
      "outputs": [
        {
          "output_type": "stream",
          "name": "stdout",
          "text": [
            "+------------------+-----------+\n",
            "|prediction        |progression|\n",
            "+------------------+-----------+\n",
            "|59.82024800507177 |59.97      |\n",
            "|39.5950102503772  |39.55      |\n",
            "|51.527013101779445|51.81      |\n",
            "|60.64909540434233 |60.75      |\n",
            "|41.544535986452445|41.11      |\n",
            "|52.38059086977664 |52.23      |\n",
            "|47.092984586937156|47.08      |\n",
            "|29.482487288220593|29.53      |\n",
            "|58.49573484236181 |58.81      |\n",
            "|55.56966410771524 |55.62      |\n",
            "+------------------+-----------+\n",
            "only showing top 10 rows\n",
            "\n"
          ]
        }
      ]
    },
    {
      "cell_type": "code",
      "source": [
        "#create linear regression model.\n",
        "Ridgeregressor = LinearRegression(labelCol = 'progression',\n",
        "                             featuresCol = 'scaled_Features',\n",
        "                             elasticNetParam=0,\n",
        "                             regParam=0.1\n",
        "                             )\n",
        "Ridgepipeline  = Pipeline(stages = [indexer,assembler,scaler,Ridgeregressor])\n",
        "RidgeModel = Ridgepipeline.fit(data_train)"
      ],
      "metadata": {
        "id": "yCHY7P7B_-qT"
      },
      "execution_count": 58,
      "outputs": []
    },
    {
      "cell_type": "code",
      "source": [
        "Ridgepred = RidgeModel.transform(data_test)\n",
        "Ridgepred.select('prediction', 'progression').show(10, truncate = False)"
      ],
      "metadata": {
        "colab": {
          "base_uri": "https://localhost:8080/"
        },
        "id": "Q970fa5uA4pP",
        "outputId": "ee3c45e9-11a8-4d23-e04c-332f49de5665"
      },
      "execution_count": 60,
      "outputs": [
        {
          "output_type": "stream",
          "name": "stdout",
          "text": [
            "+------------------+-----------+\n",
            "|prediction        |progression|\n",
            "+------------------+-----------+\n",
            "|59.86358566750655 |59.97      |\n",
            "|39.66084381490999 |39.55      |\n",
            "|51.7829546940159  |51.81      |\n",
            "|60.63407347623129 |60.75      |\n",
            "|41.20361501549629 |41.11      |\n",
            "|52.20764403526073 |52.23      |\n",
            "|47.105649549790435|47.08      |\n",
            "|29.74574086678449 |29.53      |\n",
            "|58.71561078991803 |58.81      |\n",
            "|55.55563495854291 |55.62      |\n",
            "+------------------+-----------+\n",
            "only showing top 10 rows\n",
            "\n"
          ]
        }
      ]
    },
    {
      "cell_type": "code",
      "source": [
        "#Model Evaluation Spark Provides evaluation metrics\n",
        "#for regression and classification tasks.\n",
        "from pyspark.ml.evaluation import RegressionEvaluator\n",
        "evaluator_mse = RegressionEvaluator(labelCol =\n",
        "                                    'progression',\n",
        "                                    predictionCol =\n",
        "                                    'prediction',\n",
        "                                    metricName =\n",
        "                                    'mse')\n",
        "# calculate MSE\n",
        "mse1 = evaluator_mse.evaluate(pred)\n",
        "mselasso = evaluator_mse.evaluate(lassopred)\n",
        "mseridge = evaluator_mse.evaluate(Ridgepred )\n",
        "\n",
        "evaluator_rmse = RegressionEvaluator(labelCol =\n",
        "                                     'progression',\n",
        "                                     predictionCol =\n",
        "                                     'prediction',\n",
        "                                     metricName =\n",
        "                                     'rmse')\n",
        "# calculate RMSE\n",
        "rmse1 = evaluator_rmse.evaluate(pred)\n",
        "rmse2_lasso = evaluator_rmse.evaluate(lassopred)\n",
        "rmse3Ridge = evaluator_rmse.evaluate(Ridgepred)\n",
        "\n",
        "evaluator_r2 = RegressionEvaluator(labelCol = 'progression',\n",
        "                                   predictionCol = 'prediction',\n",
        "                                   metricName = 'r2')\n",
        "# calculate R_squared\n",
        "r2_score1 = evaluator_r2.evaluate(pred)\n",
        "r2_lasso = evaluator_r2.evaluate(lassopred)\n",
        "r2_ridge = evaluator_r2.evaluate(Ridgepred)\n",
        "# print the evaluation metrics\n",
        "print('Regression - MSE: ', mse1, ', RMSE: ', rmse1, ', R^2: ', r2_score1)\n",
        "print('Lasso - MSE: ', mselasso, ', RMSE: ', rmse2_lasso, ', R^2: ', r2_lasso)\n",
        "print('Ridge - MSE: ', mseridge, ', RMSE: ', rmse3Ridge, ', R^2: ', r2_ridge)"
      ],
      "metadata": {
        "colab": {
          "base_uri": "https://localhost:8080/"
        },
        "id": "0uVsZ4QsAbOV",
        "outputId": "788b929f-0da2-47d3-d84a-e8a4bc168609"
      },
      "execution_count": 62,
      "outputs": [
        {
          "output_type": "stream",
          "name": "stdout",
          "text": [
            "Regression - MSE:  8.342275025192193e-06 , RMSE:  0.0028882996771789787 , R^2:  0.999999903251253\n",
            "Lasso - MSE:  0.05035116477252246 , RMSE:  0.22439065215049056 , R^2:  0.9994160571205042\n",
            "Ridge - MSE:  0.009817465369110429 , RMSE:  0.09908312353327599 , R^2:  0.9998861428723071\n"
          ]
        }
      ]
    },
    {
      "cell_type": "code",
      "source": [
        "# plot\n",
        "import matplotlib.pyplot as plt\n",
        "import numpy as np\n",
        "\n",
        "mse = [mse1, mselasso, mseridge]\n",
        "rmse = [rmse1, rmse2_lasso, rmse3Ridge]\n",
        "r2_score = [r2_score1, rmse2_lasso, r2_ridge]\n",
        "\n",
        "positions = np.arange(len(mse))\n",
        "bar_width = 0.2\n",
        "\n",
        "plt.bar(positions - bar_width, mse, width = bar_width, label = 'MSE')\n",
        "plt.bar(positions, rmse, width = bar_width, label = 'RMSE')\n",
        "plt.bar(positions + bar_width, r2_score, width = bar_width, label = 'R2_Score')\n",
        "\n",
        "# adding labels and title\n",
        "plt.xlabel('Model')\n",
        "plt.ylabel('Scores')\n",
        "plt.title('Comparison of Regression Metrics')\n",
        "\n",
        "# adding the legend\n",
        "plt.legend()\n",
        "plt.xticks(positions, ['Regression', 'Lasso', 'Ridge'])\n",
        "plt.show()"
      ],
      "metadata": {
        "colab": {
          "base_uri": "https://localhost:8080/",
          "height": 472
        },
        "id": "maWvTth5B3ts",
        "outputId": "690ff11d-8002-4a5b-cbf3-dedaefbf7c74"
      },
      "execution_count": 63,
      "outputs": [
        {
          "output_type": "display_data",
          "data": {
            "text/plain": [
              "<Figure size 640x480 with 1 Axes>"
            ],
            "image/png": "[encoded data removed]"
          },
          "metadata": {}
        }
      ]
    },
    {
      "cell_type": "code",
      "source": [],
      "metadata": {
        "id": "PbuSlXwhTp1G"
      },
      "execution_count": null,
      "outputs": []
    }
  ]
}